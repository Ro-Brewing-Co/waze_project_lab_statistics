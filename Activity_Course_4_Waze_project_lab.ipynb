{
  "cells": [
    {
      "cell_type": "markdown",
      "metadata": {
        "id": "DtNBZFHO3M7n"
      },
      "source": [
        "# **Waze Project**\n",
        "**Course 4 - The Power of Statistics**"
      ]
    },
    {
      "cell_type": "markdown",
      "metadata": {
        "id": "WVeXS7BNzX6e"
      },
      "source": [
        "Tu equipo se está acercando a la mitad de su proyecto de pérdida de usuarios. Hasta ahora, has completado una propuesta de proyecto y has usado Python para explorar y analizar los datos de los usuarios de Waze. También has usado Python para crear visualizaciones de datos. El siguiente paso es usar métodos estadísticos para analizar e interpretar tus datos.\n",
        "\n",
        "Recibes un nuevo correo electrónico de Sylvester Esperanza, tu gerente de proyecto. Sylvester le cuenta a tu equipo sobre una nueva solicitud de la gerencia: analizar la relación entre la cantidad promedio de viajes y el tipo de dispositivo. También descubres correos electrónicos de seguimiento de otros tres miembros del equipo: May Santner, Chidi Ga y Harriet Hadzic. Estos correos electrónicos analizan los detalles del análisis. Les gustaría un análisis estadístico de los datos de viajes según el tipo de dispositivo. En particular, la gerencia quiere saber si existe una diferencia estadísticamente significativa en la cantidad promedio de viajes entre los usuarios de iPhone® y los usuarios de Android™. Un correo electrónico final de Chidi incluye su tarea específica: realizar una prueba de hipótesis de dos muestras (prueba t) para analizar la diferencia en la cantidad media de viajes entre usuarios de iPhone y usuarios de Android.\n",
        "\n",
        "Se estructuró y preparó un cuaderno para ayudarlo en este proyecto. Complete las siguientes preguntas y prepare un resumen ejecutivo."
      ]
    },
    {
      "cell_type": "markdown",
      "metadata": {
        "id": "rgSbVJvomcVa"
      },
      "source": [
        "# **Proyecto de fin de curso del Curso 4: Exploración de datos y prueba de hipótesis**\n",
        "\n",
        "En esta actividad, explorará los datos proporcionados y realizará una prueba de hipótesis.\n",
        "\n",
        "<br/>\n",
        "\n",
        "**El propósito** de este proyecto es demostrar el conocimiento de cómo realizar una prueba de hipótesis de dos muestras.\n",
        "\n",
        "**El objetivo** es aplicar estadísticas descriptivas y pruebas de hipótesis en Python.\n",
        "\n",
        "<br/>\n",
        "\n",
        "*Esta actividad tiene tres partes:*\n",
        "\n",
        "---\n",
        "\n",
        "## **Parte 1: Importaciones y carga de datos**\n",
        "\n",
        "* ¿Qué paquetes de datos serán necesarios para la prueba de hipótesis?\n",
        "\n",
        "---\n",
        "\n",
        "## **Parte 2: Realizar pruebas de hipótesis**\n",
        "\n",
        "* ¿Cómo le ayudó el cálculo de estadísticas descriptivas a analizar sus datos?\n",
        "* ¿Cómo formuló su hipótesis nula y su hipótesis alternativa?\n",
        "\n",
        "---\n",
        "\n",
        "## **Parte 3: Comunicar información a las partes interesadas**\n",
        "\n",
        "* ¿Qué información empresarial clave surgió de su prueba de hipótesis?\n",
        "* ¿Qué recomendaciones comerciales propone en función de sus resultados?\n",
        "\n",
        "---\n",
        "\n",
        "Siga las instrucciones y responda las preguntas a continuación para completar la actividad. Luego, completará un **Resumen ejecutivo** utilizando las preguntas que figuran en el **Documento de estrategia PACE**.\n",
        "\n",
        "Asegúrese de completar esta actividad antes de continuar. El siguiente elemento del curso le proporcionará un ejemplo completo para comparar con su propio trabajo.\n",
        "\n",
        "---\n",
        "\n",
        "Si quieres, también te puedo preparar una plantilla en Markdown para que completes tus respuestas directamente. ¿Te la preparo?\n"
      ]
    },
    {
      "cell_type": "markdown",
      "metadata": {
        "id": "9GHVSxqehVpv"
      },
      "source": [
        "# **Data exploration and hypothesis testing**"
      ]
    },
    {
      "cell_type": "markdown",
      "metadata": {
        "id": "N8qrn_UAzX6j"
      },
      "source": [
        "<img src=\"images/Pace.png\" width=\"100\" height=\"100\" align=left>\n",
        "\n",
        "# **PACE stages**\n"
      ]
    },
    {
      "cell_type": "markdown",
      "metadata": {
        "id": "WQ1oMthKhfzP"
      },
      "source": [
        "A lo largo de estos cuadernos de proyecto, verás referencias al marco de resolución de problemas PACE. Los siguientes componentes del cuaderno están etiquetados con la etapa PACE respectiva: Planificar, Analizar, Construir y Ejecutar."
      ]
    },
    {
      "cell_type": "markdown",
      "metadata": {
        "id": "Bb1HNu3FzX6k"
      },
      "source": [
        "<img src=\"images/Plan.png\" width=\"100\" height=\"100\" align=left>\n",
        "\n",
        "\n",
        "## **PACE: Plan**\n",
        "\n",
        "\"Considera las preguntas en tu Documento de Estrategia PACE y las que se encuentran a continuación para elaborar tu respuesta:\n",
        "\n",
        "1. ¿Cuál es tu pregunta de investigación para este proyecto de datos? Más adelante, necesitarás formular las hipótesis nula y alternativa como primer paso de tu prueba de hipótesis. Considera tu pregunta de investigación ahora, al comienzo de esta tarea.\"\n"
      ]
    },
    {
      "cell_type": "markdown",
      "metadata": {
        "id": "F6_h60RuXQIz"
      },
      "source": [
        "¿Existen diferencias significativas en el tiempo promedio de llegada de los conductores que usan rutas alternativas frente a los que usan rutas sugeridas por Waze en diferentes horas del día?\n",
        "\n",
        "Esta pregunta busca entender si el uso de rutas alternativas realmente aporta una ventaja (o desventaja) en tiempos de llegada en comparación con las rutas estándar proporcionadas por la aplicación."
      ]
    },
    {
      "cell_type": "markdown",
      "metadata": {
        "id": "Kp3uDhhSg_qu"
      },
      "source": [
        "¿El tipo de dispositivo utilizado por los usuarios de Waze influye en la cantidad media de viajes realizados?"
      ]
    },
    {
      "cell_type": "markdown",
      "metadata": {
        "id": "xgQEdIN7f1Jq"
      },
      "source": [
        "### **Task 1. Imports and data loading**\n",
        "\n",
        "\n"
      ]
    },
    {
      "cell_type": "markdown",
      "metadata": {
        "id": "ehehvUzFj0-e"
      },
      "source": [
        "Import packages and libraries needed to compute descriptive statistics and conduct a hypothesis test."
      ]
    },
    {
      "cell_type": "markdown",
      "metadata": {
        "id": "e6cryW4WgiIL"
      },
      "source": [
        "<details>\n",
        "  <summary><h4><strong>Hint:</strong></h4></summary>\n",
        "\n",
        "Before you begin, recall the following Python packages and functions:\n",
        "\n",
        "*Main functions*: stats.ttest_ind(a, b, equal_var)\n",
        "\n",
        "*Other functions*: mean()\n",
        "\n",
        "*Packages*: pandas, stats.scipy\n",
        "\n",
        "</details>"
      ]
    },
    {
      "cell_type": "code",
      "execution_count": null,
      "metadata": {
        "id": "1Q-GL2UrgWWG"
      },
      "outputs": [],
      "source": [
        "# Import any relevant packages or libraries\n",
        "import pandas as pd\n",
        "from scipy import stats"
      ]
    },
    {
      "cell_type": "markdown",
      "metadata": {
        "id": "stMe9uT3kOmF"
      },
      "source": [
        "Importa el conjunto de datos.\n",
        "\n",
        "Nota: Como se muestra en esta celda, el conjunto de datos se ha cargado automáticamente. No necesitas descargar el archivo .csv ni proporcionar más código para acceder al conjunto de datos y continuar con este laboratorio. Continúa con esta actividad completando las siguientes instrucciones."
      ]
    },
    {
      "cell_type": "code",
      "execution_count": null,
      "metadata": {
        "id": "2qAt6Upaeg6U"
      },
      "outputs": [],
      "source": [
        "# Load dataset into dataframe\n",
        "df = pd.read_csv('waze_dataset.csv')"
      ]
    },
    {
      "cell_type": "markdown",
      "metadata": {
        "id": "c8paWsdKzX6o"
      },
      "source": [
        "<img src=\"images/Analyze.png\" width=\"100\" height=\"100\" align=left>\n",
        "\n",
        "<img src=\"images/Construct.png\" width=\"100\" height=\"100\" align=left>\n",
        "\n",
        "## **PACE: Analyze and Construct**\n",
        "\n",
        "\"Considera las preguntas en tu Documento de Estrategia PACE y las que se encuentran a continuación para elaborar tu respuesta:\n",
        "\n",
        "Los profesionales de datos utilizan estadísticas descriptivas para el análisis exploratorio de datos (EDA). ¿Cómo puede el cálculo de estadísticas descriptivas ayudarte a aprender más sobre tus datos en esta etapa de tu análisis?\"\n"
      ]
    },
    {
      "cell_type": "markdown",
      "metadata": {
        "id": "rX5xJnWUXxsW"
      },
      "source": [
        "# Importancia de las estadísticas descriptivas\n",
        "\n",
        "## 1. Resumen de los datos\n",
        "\n",
        "Permiten condensar grandes conjuntos de datos en métricas clave que facilitan su interpretación.\n",
        "\n",
        "- **Medidas de tendencia central**: media, mediana y moda (para conocer valores típicos).\n",
        "- **Medidas de dispersión**: rango, varianza, desviación estándar (para evaluar la variabilidad entre los usuarios).\n",
        "\n",
        "**Ejemplo**:  \n",
        "Saber que los usuarios de Waze realizan en promedio 10 viajes semanales con una desviación estándar de 3 te da una idea clara de su comportamiento general.\n",
        "\n",
        "---\n",
        "\n",
        "## 2. Detección de valores atípicos y errores\n",
        "\n",
        "Las estadísticas descriptivas ayudan a identificar datos inusuales o posibles errores en la recolección de información.\n",
        "\n",
        "**Ejemplo**:  \n",
        "Si un usuario registra 500 viajes en un día, es probable que se trate de un error o un caso especial que requiere revisión.\n",
        "\n",
        "---\n",
        "\n",
        "## 3. Comparación entre grupos\n",
        "\n",
        "Facilitan la comparación entre diferentes categorías, como tipos de dispositivos, regiones geográficas o perfiles de usuario.\n",
        "\n",
        "**Ejemplo**:  \n",
        "Puedes comparar la media de viajes entre usuarios de iOS y Android antes de realizar una prueba estadística formal.\n",
        "\n",
        "---\n",
        "\n",
        "## 4. Apoyo en la toma de decisiones\n",
        "\n",
        "Los resúmenes estadísticos permiten identificar patrones, tendencias y áreas de mejora, lo cual es clave para definir estrategias.\n",
        "\n",
        "**Ejemplo**:  \n",
        "Si notas que ciertos dispositivos tienen menos uso, podrías investigar si hay problemas de compatibilidad o experiencia de usuario.\n",
        "\n",
        "---\n",
        "\n",
        "## 5. Base para análisis avanzados\n",
        "\n",
        "Antes de aplicar técnicas como pruebas de hipótesis o modelos de *machine learning*, es esencial comprender la estructura y distribución de los datos mediante estadísticas descriptivas.\n",
        "\n",
        "Las estadísticas descriptivas actúan como el primer filtro para entender los datos y orientar las siguientes etapas del análisis. Sin ellas, cualquier análisis posterior podría estar basado en supuestos erróneos o datos distorsionados.\n",
        "\n"
      ]
    },
    {
      "cell_type": "markdown",
      "metadata": {
        "id": "UKhYTdVhf5B2"
      },
      "source": [
        "### **Task 2. Data exploration**\n",
        "\n",
        "Use descriptive statistics to conduct exploratory data analysis (EDA)."
      ]
    },
    {
      "cell_type": "markdown",
      "metadata": {
        "id": "AzYm91yQrS9s"
      },
      "source": [
        "<details>\n",
        "  <summary><h4><strong>Hint:</strong></h4></summary>\n",
        "\n",
        "Refer back to *Self Review Descriptive Statistics* for this step-by-step proccess.\n",
        "\n",
        "</details>"
      ]
    },
    {
      "cell_type": "markdown",
      "metadata": {
        "id": "JAq7ag0pTNgl"
      },
      "source": [
        "Nota: En el conjunto de datos, device es una variable categórica con las etiquetas iPhone y Android.\n",
        "\n",
        "Para realizar este análisis, debes convertir cada etiqueta en un entero. El siguiente código asigna un 1 para un usuario de iPhone y un 2 para Android. Asigna esta etiqueta de nuevo a la variable device_new.\n",
        "\n",
        "Nota: Crear una nueva variable es ideal para no sobrescribir los datos originales.\n"
      ]
    },
    {
      "cell_type": "markdown",
      "metadata": {
        "id": "GaJ4golwD8et"
      },
      "source": [
        "1. Crea un diccionario llamado map_dictionary que contenga las etiquetas de clase ('Android' e 'iPhone') como claves y los valores a los que deseas convertirlas (2 y 1) como valores.\n",
        "\n",
        "2. Crea una nueva columna llamada device_type que sea una copia de la columna device.\n",
        "\n",
        "3. Usa el método [redacted link] en la serie device_type. Pasa map_dictionary como su argumento. Reasigna el resultado de vuelta a la serie device_type.\n",
        "\n",
        "Cuando pasas un diccionario al método Series.map(), reemplazará los datos en la serie donde esos datos coincidan con las claves del diccionario. Los valores que se imputan son los valores del diccionario.\n",
        "\n",
        "```\n",
        "Example:\n",
        "df['column']\n",
        "```\n",
        "\n",
        "|column |\n",
        "|  :-:       |\n",
        "| A     |\n",
        "| B     |\n",
        "| A     |\n",
        "| B     |\n",
        "\n",
        "```\n",
        "map_dictionary = {'A': 2, 'B': 1}\n",
        "df['column'] = df['column'].map(map_dictionary)\n",
        "df['column']\n",
        "```\n",
        "\n",
        "|column |\n",
        "|  :-: |\n",
        "| 2    |\n",
        "| 1    |\n",
        "| 2    |\n",
        "| 1    |\n"
      ]
    },
    {
      "cell_type": "code",
      "execution_count": null,
      "metadata": {
        "id": "piHSZbnjEXw-",
        "outputId": "6dc14d17-4293-4816-89e0-5bd682a34f03"
      },
      "outputs": [
        {
          "data": {
            "text/plain": [
              "device\n",
              "Android    66.231838\n",
              "iPhone     67.859078\n",
              "Name: drives, dtype: float64"
            ]
          },
          "execution_count": 11,
          "metadata": {},
          "output_type": "execute_result"
        }
      ],
      "source": [
        "# 1. Create `map_dictionary`\n",
        "map_dictionary = {'Android': 2, 'iPhone': 1}\n",
        "\n",
        "# 2. Create new `device_type` column\n",
        "df['device_type'] = df['device']\n",
        "\n",
        "# 3. Map the new column to the dictionary\n",
        "df['device_type'] = df['device_type'].map(map_dictionary)\n",
        "\n",
        "df['device_type'].value_counts()\n",
        "average_drives = df.groupby('device')['drives'].mean()\n",
        "average_drives"
      ]
    },
    {
      "cell_type": "markdown",
      "metadata": {
        "id": "-fFiNg4hdGBK"
      },
      "source": [
        "You are interested in the relationship between device type and the number of drives. One approach is to look at the average number of drives for each device type. Calculate these averages."
      ]
    },
    {
      "cell_type": "code",
      "execution_count": null,
      "metadata": {
        "id": "2LGEWrdVXgI2",
        "outputId": "91b4f608-3c77-494c-c9ac-6dd7e880d640"
      },
      "outputs": [
        {
          "data": {
            "text/plain": [
              "device\n",
              "Android    66.231838\n",
              "iPhone     67.859078\n",
              "Name: drives, dtype: float64"
            ]
          },
          "execution_count": 14,
          "metadata": {},
          "output_type": "execute_result"
        }
      ],
      "source": [
        "average_drives = df.groupby('device')['drives'].mean()\n",
        "average_drives"
      ]
    },
    {
      "cell_type": "markdown",
      "metadata": {
        "id": "Z_u-zWvGdfII"
      },
      "source": [
        "Según los promedios mostrados, parece que los conductores que usan un dispositivo iPhone para interactuar con la aplicación tienen un mayor número de viajes en promedio. Sin embargo, esta diferencia podría deberse al muestreo aleatorio, en lugar de ser una verdadera diferencia en la cantidad de viajes. Para evaluar si la diferencia es estadísticamente significativa, puedes realizar una prueba de hipótesis."
      ]
    },
    {
      "cell_type": "markdown",
      "metadata": {
        "id": "QpFRQDaNzX6p"
      },
      "source": [
        "\n",
        "### **Task 3. Hypothesis testing**\n",
        "\n",
        "Tu objetivo es realizar una prueba t de dos muestras. Recuerda los pasos para realizar una prueba de hipótesis:\n",
        "\n",
        "1. Enuncia la hipótesis nula y la hipótesis alternativa.\n",
        "2. Elige un nivel de significancia.\n",
        "3. Encuentra el valor p.\n",
        "4. Rechaza o no rechaza la hipótesis nula.\n",
        "\n",
        "Nota: Esta es una prueba t para dos muestras independientes. Esta es la prueba apropiada ya que los dos grupos son independientes (usuarios de Android vs. usuarios de iPhone)."
      ]
    },
    {
      "cell_type": "markdown",
      "metadata": {
        "id": "phXxr74vVPrs"
      },
      "source": [
        "Recall the difference between the null hypothesis ($H_0$) and the alternative hypothesis ($H_A$).\n",
        "\n",
        "**Question:** What are your hypotheses for this data project?"
      ]
    },
    {
      "cell_type": "markdown",
      "metadata": {
        "id": "SkDeGggZYM84"
      },
      "source": [
        "H₀: No hay diferencia significativa en el promedio de uso entre usuarios de Android y iPhone. Cualquier diferencia observada se debe al azar.\n",
        "\n",
        "Hₐ: Existe una diferencia significativa en el promedio de uso entre usuarios de Android y iPhone."
      ]
    },
    {
      "cell_type": "markdown",
      "metadata": {
        "id": "IVHpnfvNeTUA"
      },
      "source": [
        "A continuación, elige el 5% como nivel de significancia y procede con una prueba t de dos muestras.\n",
        "\n",
        "Puedes usar la función stats.ttest_ind() para realizar la prueba.\n",
        "\n",
        "Nota técnica: El valor predeterminado para el argumento equal_var en stats.ttest_ind() es True, que asume que las varianzas de la población son iguales. Esta suposición de varianza igual podría no cumplirse en la práctica (es decir, no hay una razón sólida para asumir que los dos grupos tienen la misma varianza); puedes relajar esta suposición estableciendo equal_var en False, y stats.ttest_ind() realizará la prueba $t$$t$ de varianzas desiguales (conocida como la prueba t de Welch). Consulta la [documentación de la prueba t de scipy] para obtener más información.\n",
        "\n",
        "1. Aísla la columna drives para los usuarios de iPhone.\n",
        "2. Aísla la columna drives para los usuarios de Android.\n",
        "3. Realiza la prueba t."
      ]
    },
    {
      "cell_type": "code",
      "execution_count": null,
      "metadata": {
        "id": "rdlsXg7Dhbrd",
        "outputId": "df81747f-6360-4b88-9f6e-691fb5da6159"
      },
      "outputs": [
        {
          "data": {
            "text/plain": [
              "Ttest_indResult(statistic=1.4635232068852353, pvalue=0.1433519726802059)"
            ]
          },
          "execution_count": 28,
          "metadata": {},
          "output_type": "execute_result"
        }
      ],
      "source": [
        "# 1. Isolate the `drives` column for iPhone users.\n",
        "iphone_drives = df[df['device'] == 'iPhone']['drives']\n",
        "\n",
        "# 2. Isolate the `drives` column for Android users.\n",
        "android_drives = df[df['device'] == 'Android']['drives']\n",
        "\n",
        "# 3. Perform the t-test\n",
        "stats.ttest_ind(a=iphone_drives, b=android_drives, equal_var=False)\n",
        "\n"
      ]
    },
    {
      "cell_type": "markdown",
      "metadata": {
        "id": "64Wq_VSaVsNm"
      },
      "source": [
        "**Question:** Based on the p-value you got above, do you reject or fail to reject the null hypothesis?"
      ]
    },
    {
      "cell_type": "markdown",
      "metadata": {
        "id": "SGLHv2FY1P2-"
      },
      "source": [
        "Segun el p_value que es 0.143 o 14.3%, no se rechaza la hipótesis nula ya que no hay diferencia estadística significativa, el nivel de significancia es menor al p-value."
      ]
    },
    {
      "cell_type": "markdown",
      "metadata": {
        "id": "Ab4e-W3mzX6r"
      },
      "source": [
        "<img src=\"images/Execute.png\" width=\"100\" height=\"100\" align=left>\n",
        "\n",
        "## **PACE: Execute**\n",
        "\n",
        "Consider the questions in your PACE Strategy Document to reflect on the Execute stage."
      ]
    },
    {
      "cell_type": "markdown",
      "metadata": {
        "id": "h1PRfiD3hcwE"
      },
      "source": [
        "### **Task 4. Communicate insights with stakeholders**"
      ]
    },
    {
      "cell_type": "markdown",
      "metadata": {
        "id": "ItreFaZKhvVw"
      },
      "source": [
        "\"Ahora que has completado tu prueba de hipótesis, el siguiente paso es compartir tus hallazgos con el equipo de liderazgo de Waze. Considera la siguiente pregunta mientras te preparas para escribir tu resumen ejecutivo:\n",
        "\n",
        "¿Qué información empresarial puedes extraer del resultado de tu prueba de hipótesis?\""
      ]
    },
    {
      "cell_type": "markdown",
      "metadata": {
        "id": "-CgNingVY4Bw"
      },
      "source": [
        "# Insights clave para los stakeholders\n",
        "\n",
        "## No hay diferencias estadísticamente significativas en el uso por tipo de dispositivo\n",
        "\n",
        "Aunque la media de uso de **iPhone (67.86)** es ligeramente superior a la de **Android (66.23)**, esta diferencia podría ser resultado del azar y no refleja un patrón consistente entre los usuarios.\n",
        "\n",
        "## Uniformidad en el comportamiento de los usuarios\n",
        "\n",
        "La similitud en los promedios sugiere que los usuarios interactúan con la aplicación de manera similar, sin importar el dispositivo que utilizan. Esto es positivo, ya que indica que la experiencia de usuario está bien optimizada en ambas plataformas.\n",
        "\n",
        "## Revisión del tamaño de la muestra y variabilidad\n",
        "\n",
        "Aunque el resultado no fue significativo, un *p-value* cercano al **0.10** podría indicar que con una muestra más grande o con menor variabilidad en los datos, podrían encontrarse diferencias relevantes.\n",
        "\n",
        "## Optimización equitativa\n",
        "\n",
        "No es necesario implementar estrategias diferenciadas por tipo de dispositivo en términos de *engagement* o mejoras técnicas. Las acciones generales seguirán beneficiando a todos los usuarios.\n",
        "\n",
        "---\n",
        "\n",
        "# Recomendaciones estratégicas\n",
        "\n",
        "## Recolectar más datos o ampliar el análisis\n",
        "\n",
        "Considerar un estudio con una mayor muestra o incluir variables adicionales como la región geográfica, hábitos de uso o perfil del usuario para detectar patrones más complejos.\n",
        "\n",
        "## Análisis temporal\n",
        "\n",
        "Verificar si existen variaciones estacionales o cambios en el comportamiento según eventos específicos (ej.: actualizaciones de la app o campañas de marketing).\n",
        "\n",
        "## Enfocarse en la experiencia del usuario\n",
        "\n",
        "Dado que no hay diferencias en el uso por dispositivo, los esfuerzos deben centrarse en mejoras globales que impacten positivamente a todos los usuarios.\n",
        "\n",
        "## Monitoreo continuo\n",
        "\n",
        "Mantener un seguimiento periódico de estos indicadores, especialmente tras cambios importantes en la aplicación o nuevas actualizaciones del sistema operativo.\n",
        "\n",
        "## Exploración de otros factores de segmentación\n",
        "\n",
        "Si el tipo de dispositivo no influye significativamente, se recomienda explorar otras variables (como frecuencia de uso, geolocalización o demografía) que puedan ofrecer mayor valor estratégico."
      ]
    },
    {
      "cell_type": "markdown",
      "metadata": {
        "id": "YeUgKGG0DbZz"
      },
      "source": [
        "**Congratulations!** You've completed this lab. However, you may not notice a green check mark next to this item on Coursera's platform. Please continue your progress regardless of the check mark. Just click on the \"save\" icon at the top of this notebook to ensure your work has been logged."
      ]
    }
  ],
  "metadata": {
    "colab": {
      "provenance": []
    },
    "kernelspec": {
      "display_name": "Python 3",
      "language": "python",
      "name": "python3"
    },
    "language_info": {
      "codemirror_mode": {
        "name": "ipython",
        "version": 3
      },
      "file_extension": ".py",
      "mimetype": "text/x-python",
      "name": "python",
      "nbconvert_exporter": "python",
      "pygments_lexer": "ipython3",
      "version": "3.7.6"
    }
  },
  "nbformat": 4,
  "nbformat_minor": 0
}
